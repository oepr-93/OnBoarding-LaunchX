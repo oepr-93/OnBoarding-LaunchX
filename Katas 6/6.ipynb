{
 "cells": [
  {
   "cell_type": "markdown",
   "id": "e806ad81",
   "metadata": {},
   "source": [
    "# Kata del módulo 6\n",
    "\n",
    "## Ejercicio1: Crear y usar listas de Python\n",
    "\n",
    "Proyecto sobre información planetaria creando una lista de planetas."
   ]
  },
  {
   "cell_type": "code",
   "execution_count": 5,
   "id": "9285b517",
   "metadata": {},
   "outputs": [
    {
     "name": "stdout",
     "output_type": "stream",
     "text": [
      "Los planetas son 8 :\n",
      "Mercurio\n",
      "Venus\n",
      "Tierra\n",
      "Marte\n",
      "Jupiter\n",
      "Saturno\n",
      "Urano\n",
      "Neptuno\n",
      "Pluton -> último planeta\n"
     ]
    }
   ],
   "source": [
    "lista = ['Mercurio', 'Venus', 'Tierra', 'Marte', 'Jupiter', 'Saturno', 'Urano', 'Neptuno']\n",
    "\n",
    "print('Los planetas son', len(lista), ':')\n",
    "print('\\n'.join(map(str, lista)))\n",
    "\n",
    "lista.append('Pluton')\n",
    "print(lista[-1], '-> último planeta')"
   ]
  },
  {
   "cell_type": "code",
   "execution_count": 9,
   "id": "1bdda4aa",
   "metadata": {},
   "outputs": [
    {
     "name": "stdout",
     "output_type": "stream",
     "text": [
      "Escriba el nombre del planeta a buscarTierra\n",
      "2\n"
     ]
    }
   ],
   "source": [
    "user_planet = input('Escriba el nombre del planeta a buscar')\n",
    "planet_index = lista.index(user_planet)\n",
    "print(planet_index)"
   ]
  },
  {
   "cell_type": "code",
   "execution_count": 10,
   "id": "8d286cef",
   "metadata": {},
   "outputs": [
    {
     "name": "stdout",
     "output_type": "stream",
     "text": [
      "Planetas más cercanos que Tierra\n",
      "['Mercurio', 'Venus']\n"
     ]
    }
   ],
   "source": [
    "print('Planetas más cercanos que ' + user_planet)\n",
    "print(lista[0:planet_index])"
   ]
  },
  {
   "cell_type": "code",
   "execution_count": 11,
   "id": "e9f11aa6",
   "metadata": {},
   "outputs": [
    {
     "name": "stdout",
     "output_type": "stream",
     "text": [
      "Planetas más lejanos que Tierra\n",
      "['Marte', 'Jupiter', 'Saturno', 'Urano', 'Neptuno', 'Pluton']\n"
     ]
    }
   ],
   "source": [
    "print('Planetas más lejanos que ' + user_planet)\n",
    "print(lista[planet_index + 1:])"
   ]
  },
  {
   "cell_type": "code",
   "execution_count": null,
   "id": "2cc137b9",
   "metadata": {},
   "outputs": [],
   "source": []
  }
 ],
 "metadata": {
  "kernelspec": {
   "display_name": "Python 3",
   "language": "python",
   "name": "python3"
  },
  "language_info": {
   "codemirror_mode": {
    "name": "ipython",
    "version": 3
   },
   "file_extension": ".py",
   "mimetype": "text/x-python",
   "name": "python",
   "nbconvert_exporter": "python",
   "pygments_lexer": "ipython3",
   "version": "3.8.8"
  }
 },
 "nbformat": 4,
 "nbformat_minor": 5
}
