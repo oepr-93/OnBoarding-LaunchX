{
 "cells": [
  {
   "cell_type": "markdown",
   "id": "f00e3bad",
   "metadata": {},
   "source": [
    "# Kata del módulo 5\n",
    "\n",
    "## Ejercicio1 - Utilizar operadores aritméticos\n",
    "\n",
    "Crear un programa que pueda calcular la distancia entre dos planetas.\n",
    "\n",
    "## Ejercicio 2: convierte cadenas en números y usa valores absolutos\n"
   ]
  },
  {
   "cell_type": "code",
   "execution_count": 1,
   "id": "93ddea05",
   "metadata": {},
   "outputs": [
    {
     "name": "stdout",
     "output_type": "stream",
     "text": [
      "Distancia del planeta 1 (km): 149597870\n",
      "Distancia del planeta 2 (km): 778547200\n"
     ]
    }
   ],
   "source": [
    "planeta1 = int(input(\"Distancia del planeta 1 (km): \")) #planeta 1: 149597870\n",
    "planeta2 = int(input(\"Distancia del planeta 2 (km): \")) #planeta 2: 778547200"
   ]
  },
  {
   "cell_type": "code",
   "execution_count": 2,
   "id": "7d6c8090",
   "metadata": {},
   "outputs": [
    {
     "name": "stdout",
     "output_type": "stream",
     "text": [
      "Distancia del planeta:  628949330 km -> 390577533.93 mi\n"
     ]
    }
   ],
   "source": [
    "dist_planetas_km = planeta2 - planeta1\n",
    "dist_planetas_mi = dist_planetas_km * 0.621\n",
    "\n",
    "print(f\"Distancia del planeta:  {dist_planetas_km} km -> {dist_planetas_mi} mi\")"
   ]
  },
  {
   "cell_type": "code",
   "execution_count": 3,
   "id": "dbd70ce8",
   "metadata": {},
   "outputs": [
    {
     "name": "stdout",
     "output_type": "stream",
     "text": [
      "Distancia del planeta:  628949330 km -> 390577533.93 mi\n"
     ]
    }
   ],
   "source": [
    "print(f\"Distancia entre planetas:  {dist_planetas_km} km -> {abs(dist_planetas_mi)} mi\")"
   ]
  },
  {
   "cell_type": "code",
   "execution_count": null,
   "id": "bb17c33a",
   "metadata": {},
   "outputs": [],
   "source": []
  }
 ],
 "metadata": {
  "kernelspec": {
   "display_name": "Python 3",
   "language": "python",
   "name": "python3"
  },
  "language_info": {
   "codemirror_mode": {
    "name": "ipython",
    "version": 3
   },
   "file_extension": ".py",
   "mimetype": "text/x-python",
   "name": "python",
   "nbconvert_exporter": "python",
   "pygments_lexer": "ipython3",
   "version": "3.8.8"
  }
 },
 "nbformat": 4,
 "nbformat_minor": 5
}
