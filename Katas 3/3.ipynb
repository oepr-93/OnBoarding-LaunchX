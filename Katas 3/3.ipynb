{
 "cells": [
  {
   "cell_type": "markdown",
   "id": "3489660c",
   "metadata": {},
   "source": [
    "# Kata del módulo 3\n",
    "## Escribir declaraciones if, else, y elif\n",
    "\n",
    "Para este ejercicio, escribirás una lógica condicional que imprima una advertencia si un asteroide se acerca a la Tierra demasiado rápido. La velocidad del asteroide varía dependiendo de lo cerca que esté del sol, y cualquier velocidad superior a 25 kilómetros por segundo (km/s) merece una advertencia."
   ]
  },
  {
   "cell_type": "code",
   "execution_count": 1,
   "id": "41745885",
   "metadata": {},
   "outputs": [
    {
     "name": "stdout",
     "output_type": "stream",
     "text": [
      "Velocidad del asteroide: -1\n",
      "-1.0 No es una velocidad válida\n",
      "Velocidad del asteroide: 20\n",
      "No hay problema\n"
     ]
    }
   ],
   "source": [
    "    v_asteroide = float(input(\"Velocidad del asteroide: \"))\n",
    "    if v_asteroide > 25.0:\n",
    "        print('¡Alerta! ¡Un asteroide se acerca a velocidades peligrosas!')\n",
    "    elif v_asteroide < 0:\n",
    "        print(f'{v_asteroide} No es una velocidad válida')\n",
    "    else:\n",
    "        print('No hay problema')"
   ]
  },
  {
   "cell_type": "markdown",
   "id": "268f7376",
   "metadata": {},
   "source": [
    "Agrega el código para crear una variable para un asteroide que viaja a 19 km/s\n",
    "Escribe varias expresiones de prueba para determinar si puedes ver el rayo de luz desde la tierra\n",
    "Agrega las instrucciones que se ejecutarán si las expresiones de prueba son True o False"
   ]
  },
  {
   "cell_type": "code",
   "execution_count": 2,
   "id": "e48a4a7d",
   "metadata": {},
   "outputs": [
    {
     "name": "stdout",
     "output_type": "stream",
     "text": [
      "No se observa\n"
     ]
    }
   ],
   "source": [
    "v_asteroide = 19\n",
    "if v_asteroide > 20:\n",
    "    print('Se puede observar la luz del asteroide')\n",
    "elif v_asteroide == 20:\n",
    "    print('Se puede observar la luz del asteroide')\n",
    "else:\n",
    "    print('No se observa')"
   ]
  },
  {
   "cell_type": "markdown",
   "id": "1c58bb2d",
   "metadata": {},
   "source": [
    "Agrega el código para crear nuevas variables para la velocidad y el tamaño del asteroide\n",
    "Para probar el código, prueba con varias velocidades y tamaños\n",
    "Escribe varias expresiones de prueba o combinaciones de expresiones de prueba para determinar qué mensaje se debe enviar a Tierra."
   ]
  },
  {
   "cell_type": "code",
   "execution_count": 2,
   "id": "0f338d5e",
   "metadata": {},
   "outputs": [
    {
     "name": "stdout",
     "output_type": "stream",
     "text": [
      "Velocidad del asteroide -1\n",
      "Tamaño del asteroide 2\n",
      "Velocidad del asteroide -1.0 no válido\n",
      "Velocidad del asteroide 2\n",
      "Tamaño del asteroide -1\n",
      "Tamaño del asteroide -1.0 no válido\n",
      "Velocidad del asteroide 25\n",
      "Tamaño del asteroide 20\n",
      "Se puede observar la luz del asteroide\n"
     ]
    }
   ],
   "source": [
    "v_asteroide = -1\n",
    "tamano_asteroide = -1\n",
    "while v_asteroide < 0 or tamano_asteroide < 0:\n",
    "    v_asteroide = float(input(\"Velocidad del asteroide \"))\n",
    "    tamano_asteroide = float(input(\"Tamaño del asteroide \"))\n",
    "    if tamano_asteroide < 0:\n",
    "        print(f'Tamaño del asteroide {tamano_asteroide} no válido')\n",
    "    elif v_asteroide < 0:\n",
    "        print(f'Velocidad del asteroide {v_asteroide} no válido')\n",
    "    else:\n",
    "        if v_asteroide > 25 and tamano_asteroide > 25:\n",
    "            print('¡Alerta, Un asteroide muy peligroso viene hacia la Tierra!')\n",
    "        elif v_asteroide >= 20:\n",
    "            print('Se puede observar la luz del asteroide')\n",
    "        elif tamano_asteroide < 25 and tamano_asteroide >= 0:\n",
    "            print('No se observa')\n",
    "        else:\n",
    "            print('No se observa')"
   ]
  },
  {
   "cell_type": "code",
   "execution_count": null,
   "id": "1a965d9a",
   "metadata": {},
   "outputs": [],
   "source": []
  }
 ],
 "metadata": {
  "kernelspec": {
   "display_name": "Python 3",
   "language": "python",
   "name": "python3"
  },
  "language_info": {
   "codemirror_mode": {
    "name": "ipython",
    "version": 3
   },
   "file_extension": ".py",
   "mimetype": "text/x-python",
   "name": "python",
   "nbconvert_exporter": "python",
   "pygments_lexer": "ipython3",
   "version": "3.8.8"
  }
 },
 "nbformat": 4,
 "nbformat_minor": 5
}
