{
 "cells": [
  {
   "cell_type": "markdown",
   "id": "46737796",
   "metadata": {},
   "source": [
    "# Katas del módulo 7\n",
    "\n",
    "## Ejercicio 1: Creación de un bucle \"while\"\n",
    "\n",
    "Crear una aplicación que solicita a un usuario que ingrese una lista de planetas"
   ]
  },
  {
   "cell_type": "code",
   "execution_count": 1,
   "id": "4ba6a13e",
   "metadata": {},
   "outputs": [
    {
     "name": "stdout",
     "output_type": "stream",
     "text": [
      "Nuevo planeta: Tierra\n",
      "Nuevo planeta: final\n"
     ]
    }
   ],
   "source": [
    "\n",
    "planetas = []\n",
    "planeta = \"\"\n",
    "\n",
    "while planeta.lower() != 'final':\n",
    "    if planeta:\n",
    "        planetas.append(planeta)\n",
    "    planeta = input('Nuevo planeta: ')"
   ]
  },
  {
   "cell_type": "code",
   "execution_count": 2,
   "id": "ea5e4a60",
   "metadata": {},
   "outputs": [
    {
     "name": "stdout",
     "output_type": "stream",
     "text": [
      "Tierra\n"
     ]
    }
   ],
   "source": [
    "print('\\n'.join(map(str, planetas)))"
   ]
  },
  {
   "cell_type": "markdown",
   "id": "4e92b690",
   "metadata": {},
   "source": [
    "## Ejercicio 2: Creación de un ciclo \"for\"\n",
    "\n",
    "Ejercicio: - Ciclo para una lista\n",
    "En el ejercicio anterior, creaste código para solicitar a los usuarios que introduzcan una lista de nombres de planetas. En este ejercicio, completarás la aplicación escribiendo código que muestre los nombres de esos planetas."
   ]
  },
  {
   "cell_type": "code",
   "execution_count": 4,
   "id": "f96a111a",
   "metadata": {},
   "outputs": [
    {
     "name": "stdout",
     "output_type": "stream",
     "text": [
      "Tierra\n"
     ]
    }
   ],
   "source": [
    "for planet in planetas:\n",
    "    print(planet)"
   ]
  },
  {
   "cell_type": "code",
   "execution_count": null,
   "id": "546d58b7",
   "metadata": {},
   "outputs": [],
   "source": []
  }
 ],
 "metadata": {
  "kernelspec": {
   "display_name": "Python 3",
   "language": "python",
   "name": "python3"
  },
  "language_info": {
   "codemirror_mode": {
    "name": "ipython",
    "version": 3
   },
   "file_extension": ".py",
   "mimetype": "text/x-python",
   "name": "python",
   "nbconvert_exporter": "python",
   "pygments_lexer": "ipython3",
   "version": "3.8.8"
  }
 },
 "nbformat": 4,
 "nbformat_minor": 5
}
