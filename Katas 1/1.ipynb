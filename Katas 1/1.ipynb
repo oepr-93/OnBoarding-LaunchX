{
 "cells": [
  {
   "cell_type": "markdown",
   "id": "d0821772",
   "metadata": {},
   "source": [
    "# Kata del módulo 1\n",
    "## Tu primer programa\n",
    "\n",
    "Para crear este programa, deberás utilizar los conceptos que aprendiste en el último módulo. Usarás Jupyter Notebook en este ejercicio, que es una combinación de texto y código con la que puede interactuar. Finaliza el código siguiente para que el resultado muestre la fecha de hoy."
   ]
  },
  {
   "cell_type": "code",
   "execution_count": 1,
   "id": "5ab92778",
   "metadata": {},
   "outputs": [
    {
     "name": "stdout",
     "output_type": "stream",
     "text": [
      "Fecha actual: 2022-02-07\n"
     ]
    }
   ],
   "source": [
    "from datetime import date\n",
    "\n",
    "print(\"Fecha actual:\", str(date.today()))\n"
   ]
  },
  {
   "cell_type": "markdown",
   "id": "5ecd7c5a",
   "metadata": {},
   "source": [
    "Se utiliz el módulo **datetime** y se importa la clase date que es dónde se encuentran las funciones requeridas para el manejo de fechas. El método *date.today()* obtiene la fecha actual.\n",
    "\n",
    "Se utiliza *str* para hacer un cast de tipo objeto a un string y poder imprimirlo en pantalla."
   ]
  },
  {
   "cell_type": "markdown",
   "id": "49fed7f3",
   "metadata": {},
   "source": [
    "## Construir un convertidor de unidades\n",
    "\n",
    "Realizar un un programa de conversión entre parsecs y años luz.\n",
    "\n",
    "*1 parsec es 3.26156 años luz*"
   ]
  },
  {
   "cell_type": "code",
   "execution_count": 3,
   "id": "176555b7",
   "metadata": {},
   "outputs": [
    {
     "name": "stdout",
     "output_type": "stream",
     "text": [
      "Número de parsecs a convertir: 11\n",
      "11 parsec, -> 35.877159999999996 lightyears\n"
     ]
    }
   ],
   "source": [
    "parsec = int(input(\"Número de parsecs a convertir: \"))\n",
    "factor_conversion = 3.26156\n",
    "lightyears = factor_conversion * parsec\n",
    "\n",
    "print(str(parsec) + \" parsec, -> \" + str(lightyears) + \" lightyears\")"
   ]
  },
  {
   "cell_type": "code",
   "execution_count": null,
   "id": "f1de0ce9",
   "metadata": {},
   "outputs": [],
   "source": []
  }
 ],
 "metadata": {
  "kernelspec": {
   "display_name": "Python 3",
   "language": "python",
   "name": "python3"
  },
  "language_info": {
   "codemirror_mode": {
    "name": "ipython",
    "version": 3
   },
   "file_extension": ".py",
   "mimetype": "text/x-python",
   "name": "python",
   "nbconvert_exporter": "python",
   "pygments_lexer": "ipython3",
   "version": "3.8.8"
  }
 },
 "nbformat": 4,
 "nbformat_minor": 5
}
